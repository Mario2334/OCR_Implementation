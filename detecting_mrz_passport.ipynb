{
 "cells": [
  {
   "cell_type": "code",
   "execution_count": 1,
   "metadata": {
    "collapsed": true
   },
   "outputs": [],
   "source": [
    "from imutils import paths\n",
    "import numpy as np\n",
    "import imutils\n",
    "import cv2"
   ]
  },
  {
   "cell_type": "code",
   "execution_count": 2,
   "metadata": {},
   "outputs": [],
   "source": [
    "rectKernel = cv2.getStructuringElement(cv2.MORPH_RECT, (13, 5))\n",
    "sqKernel = cv2.getStructuringElement(cv2.MORPH_RECT, (21, 21))"
   ]
  },
  {
   "cell_type": "code",
   "execution_count": 3,
   "metadata": {},
   "outputs": [],
   "source": [
    "img_path = '/media/hellrazer/ezedox/pdf files/images/passport/image3.jpg'\n",
    "image = cv2.imread(img_path)\n",
    "image = imutils.resize(image,height=600)\n",
    "gray = cv2.cvtColor(image, cv2.COLOR_BGR2GRAY)"
   ]
  },
  {
   "cell_type": "code",
   "execution_count": 4,
   "metadata": {},
   "outputs": [],
   "source": [
    "gray = cv2.GaussianBlur(gray,(3,3),0)\n",
    "blackhat = cv2.morphologyEx(gray, cv2.MORPH_BLACKHAT,rectKernel)"
   ]
  },
  {
   "cell_type": "code",
   "execution_count": 5,
   "metadata": {},
   "outputs": [],
   "source": [
    "# cv2.imshow('After Image' , blackhat)\n",
    "# cv2.waitKey(0)"
   ]
  },
  {
   "cell_type": "code",
   "execution_count": 6,
   "metadata": {},
   "outputs": [],
   "source": [
    "# compute the Scharr gradient of the blackhat image and scale the\n",
    "# result into the range [0, 255]\n",
    "gradX = cv2.Sobel(blackhat, ddepth=cv2.CV_32F, dx=1, dy=0, ksize=-1)\n",
    "gradX = np.absolute(gradX)\n",
    "(minVal, maxVal) = (np.min(gradX), np.max(gradX))\n",
    "gradX = (255 * ((gradX - minVal) / (maxVal - minVal))).astype(\"uint8\")\n"
   ]
  },
  {
   "cell_type": "code",
   "execution_count": 7,
   "metadata": {},
   "outputs": [],
   "source": [
    "# cv2.imshow('After Image' , blackhat)\n",
    "# cv2.waitKey(0)"
   ]
  },
  {
   "cell_type": "code",
   "execution_count": 8,
   "metadata": {},
   "outputs": [],
   "source": [
    "# apply a closing operation using the rectangular kernel to close\n",
    "\t# gaps in between letters -- then apply Otsu's thresholding method\n",
    "gradX = cv2.morphologyEx(gradX, cv2.MORPH_CLOSE , rectKernel)\n",
    "thresh = cv2.threshold(gradX , 0, 255, cv2.THRESH_BINARY | cv2.THRESH_OTSU)[1]"
   ]
  },
  {
   "cell_type": "code",
   "execution_count": 9,
   "metadata": {},
   "outputs": [],
   "source": [
    "thresh = cv2.morphologyEx(thresh , cv2.MORPH_CLOSE, sqKernel)\n",
    "thresh = cv2.erode(thresh, None , iterations=4)"
   ]
  },
  {
   "cell_type": "code",
   "execution_count": 10,
   "metadata": {},
   "outputs": [],
   "source": [
    "p = int(image.shape[1]*0.5)\n",
    "thresh[:,0:p] = 0\n",
    "thresh[:,image.shape[1] - p:] = 0"
   ]
  },
  {
   "cell_type": "code",
   "execution_count": 11,
   "metadata": {},
   "outputs": [],
   "source": [
    "# find contours in the thresholded image and sort them by their\n",
    "\t# size\n",
    "cnts = cv2.findContours(thresh.copy() , cv2.RETR_EXTERNAL , cv2.CHAIN_APPROX_SIMPLE)[-2]\n",
    "cnts = sorted(cnts , key= cv2.contourArea, reverse=True)\n",
    "for c in cnts:\n",
    "# compute the bounding box of the contour and use the contour to\n",
    "# compute the aspect ratio and coverage ratio of the bounding box\n",
    "# width to the width of the image\n",
    "    (x, y, w, h) = cv2.boundingRect(c)\n",
    "    ar =w / float(gray.shape[1])\n",
    "    crWidth = w/ float(gray.shape[1])\n",
    "# check to see if the aspect ratio and coverage width are within\n",
    "# acceptable criteria\n",
    "    if ar>5 and crWidth > 0.75:\n",
    "        pX = int((x + w) * 0.03)\n",
    "        pY= int((y + h) * 0.03)\n",
    "        (x, y) = (x - pX, y - pY)\n",
    "        (w, h) = (w + (pX *2) , h + (pY+2))\n",
    "        roi = image[y:y+h , x:x+w].copy()\n",
    "        cv2.rectangle(image, (x, y), (x + w, y + h), (0, 255, 0), 2)\n",
    "        break"
   ]
  },
  {
   "cell_type": "code",
   "execution_count": 12,
   "metadata": {},
   "outputs": [
    {
     "ename": "NameError",
     "evalue": "name 'roi' is not defined",
     "traceback": [
      "\u001b[0;31m---------------------------------------------------------------------------\u001b[0m",
      "\u001b[0;31mNameError\u001b[0m                                 Traceback (most recent call last)",
      "\u001b[0;32m<ipython-input-12-a2d3b68be7f6>\u001b[0m in \u001b[0;36m<module>\u001b[0;34m()\u001b[0m\n\u001b[1;32m      1\u001b[0m \u001b[0mcv2\u001b[0m\u001b[0;34m.\u001b[0m\u001b[0mimshow\u001b[0m\u001b[0;34m(\u001b[0m\u001b[0;34m'Image'\u001b[0m \u001b[0;34m,\u001b[0m \u001b[0mimage\u001b[0m\u001b[0;34m)\u001b[0m\u001b[0;34m\u001b[0m\u001b[0m\n\u001b[0;32m----> 2\u001b[0;31m \u001b[0mcv2\u001b[0m\u001b[0;34m.\u001b[0m\u001b[0mimshow\u001b[0m\u001b[0;34m(\u001b[0m\u001b[0;34m'ROI'\u001b[0m \u001b[0;34m,\u001b[0m \u001b[0mroi\u001b[0m\u001b[0;34m)\u001b[0m\u001b[0;34m\u001b[0m\u001b[0m\n\u001b[0m\u001b[1;32m      3\u001b[0m \u001b[0mcv2\u001b[0m\u001b[0;34m.\u001b[0m\u001b[0mwaitKey\u001b[0m\u001b[0;34m(\u001b[0m\u001b[0;36m0\u001b[0m\u001b[0;34m)\u001b[0m\u001b[0;34m\u001b[0m\u001b[0m\n",
      "\u001b[0;31mNameError\u001b[0m: name 'roi' is not defined"
     ],
     "output_type": "error"
    }
   ],
   "source": [
    "cv2.imshow('Image' , image)\n",
    "cv2.imshow('ROI' , roi)\n",
    "cv2.waitKey(0)"
   ]
  },
  {
   "cell_type": "code",
   "execution_count": null,
   "metadata": {},
   "outputs": [],
   "source": []
  }
 ],
 "metadata": {
  "kernelspec": {
   "display_name": "Python 2",
   "language": "python",
   "name": "python2"
  },
  "language_info": {
   "codemirror_mode": {
    "name": "ipython",
    "version": 2
   },
   "file_extension": ".py",
   "mimetype": "text/x-python",
   "name": "python",
   "nbconvert_exporter": "python",
   "pygments_lexer": "ipython2",
   "version": "2.7.6"
  }
 },
 "nbformat": 4,
 "nbformat_minor": 0
}
